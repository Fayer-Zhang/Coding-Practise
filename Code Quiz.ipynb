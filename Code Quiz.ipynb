{
 "cells": [
  {
   "cell_type": "markdown",
   "metadata": {},
   "source": [
    "# Programming tests"
   ]
  },
  {
   "cell_type": "markdown",
   "metadata": {},
   "source": [
    "### Question 1: \n",
    "Given a String type binary number, such as `011001` which indicates `25` in demical, and calculate the steps to take that number to `1` following the rules:<br>\n",
    " - If number is odd, minus 1;<br>\n",
    " - If number is even, divide by 2.<br>\n",
    " \n",
    "For example: <br>\n",
    " - 25 is odd, minus 1, get 24;<br>\n",
    " - 24 is even, divide by 2, get 12;<br>\n",
    " - 12 is even, divide by 2, get 6;<br>\n",
    " - 6 is even, divide by 2, get 3;<br>\n",
    " - 3 is odd, minus 1, get 2;<br>\n",
    " - 2 is even, divide by 2, get 1<br>\n",
    "\n",
    "It takes `6` steps to get 1, so the expected output is `6` when input a string `011001`; "
   ]
  },
  {
   "cell_type": "code",
   "execution_count": 16,
   "metadata": {},
   "outputs": [],
   "source": [
    "# Code here\n",
    "\n",
    "def Solution_1(S): # S is a string type\n",
    "    x = int(S, 2) #Binary to Decimal\n",
    "    step = 0\n",
    "    \n",
    "    while x>1:\n",
    "        if (x%2 ==0):\n",
    "            x = x/2\n",
    "            step = step + 1\n",
    "        else:\n",
    "            x = x-1\n",
    "            step = step + 1\n",
    "    return step\n",
    "    "
   ]
  },
  {
   "cell_type": "markdown",
   "metadata": {},
   "source": [
    "#### Test case 1: S = `001000`"
   ]
  },
  {
   "cell_type": "code",
   "execution_count": 17,
   "metadata": {},
   "outputs": [
    {
     "name": "stdout",
     "output_type": "stream",
     "text": [
      "3\n"
     ]
    }
   ],
   "source": [
    "S = '001000'\n",
    "print(Solution_1(S))"
   ]
  },
  {
   "cell_type": "markdown",
   "metadata": {},
   "source": [
    "#### Test case 2: S = `1100100`"
   ]
  },
  {
   "cell_type": "code",
   "execution_count": 18,
   "metadata": {},
   "outputs": [
    {
     "name": "stdout",
     "output_type": "stream",
     "text": [
      "8\n"
     ]
    }
   ],
   "source": [
    "S = '1100100'\n",
    "print(Solution_1(S))"
   ]
  },
  {
   "cell_type": "markdown",
   "metadata": {},
   "source": [
    "#### Test case 3: S = `00111001100101`"
   ]
  },
  {
   "cell_type": "code",
   "execution_count": 19,
   "metadata": {},
   "outputs": [
    {
     "name": "stdout",
     "output_type": "stream",
     "text": [
      "17\n"
     ]
    }
   ],
   "source": [
    "S = '00111001100101'\n",
    "print(Solution_1(S))"
   ]
  },
  {
   "cell_type": "markdown",
   "metadata": {},
   "source": [
    "### Question 2: \n",
    "Given a String of word, such as `FAYERISAHAPPYGIRL`, and output the times the given word `FAYER` can apply.<br>\n",
    "For example: <br>\n",
    " - Input: `FVINOTTAYAYER`, Output: 1;\n",
    " - Input: `FADCYCDERCFAYCER`, Output: 2;\n",
    " - Input: `ERGHFIEPP`, Output: 0;"
   ]
  },
  {
   "cell_type": "code",
   "execution_count": 30,
   "metadata": {},
   "outputs": [],
   "source": [
    "# Code here\n",
    "\n",
    "def Solution_2(S): # S is a string type\n",
    "    word = 'FAYER'\n",
    "    time = 0\n",
    "    \n",
    "    if S.count('F')>0 and S.count('A')>0 and S.count('Y')>0 and S.count('E')>0 and S.count('R')>0:\n",
    "        time = time + min(S.count('F'), S.count('A'), S.count('Y'), S.count('E'), S.count('R'))\n",
    "    \n",
    "    else:\n",
    "        time = time\n",
    "        \n",
    "    return time\n",
    "    \n",
    "\n",
    "    "
   ]
  },
  {
   "cell_type": "markdown",
   "metadata": {},
   "source": [
    "#### Test case 1: S = `FVINOTTAYAYER`"
   ]
  },
  {
   "cell_type": "code",
   "execution_count": 31,
   "metadata": {},
   "outputs": [
    {
     "name": "stdout",
     "output_type": "stream",
     "text": [
      "1\n"
     ]
    }
   ],
   "source": [
    "S = 'FVINOTTAYAYER'\n",
    "print(Solution_2(S))"
   ]
  },
  {
   "cell_type": "markdown",
   "metadata": {},
   "source": [
    "#### Test case 2: S = `FADCYCDERCFAYCER`"
   ]
  },
  {
   "cell_type": "code",
   "execution_count": 32,
   "metadata": {},
   "outputs": [
    {
     "name": "stdout",
     "output_type": "stream",
     "text": [
      "2\n"
     ]
    }
   ],
   "source": [
    "S = 'FADCYCDERCFAYCER'\n",
    "print(Solution_2(S))"
   ]
  },
  {
   "cell_type": "markdown",
   "metadata": {},
   "source": [
    "#### Test case 3: S = `ERGHFIEPP`"
   ]
  },
  {
   "cell_type": "code",
   "execution_count": 33,
   "metadata": {},
   "outputs": [
    {
     "name": "stdout",
     "output_type": "stream",
     "text": [
      "0\n"
     ]
    }
   ],
   "source": [
    "S = 'ERGHFIEPP'\n",
    "print(Solution_2(S))"
   ]
  },
  {
   "cell_type": "code",
   "execution_count": null,
   "metadata": {},
   "outputs": [],
   "source": []
  },
  {
   "cell_type": "code",
   "execution_count": null,
   "metadata": {},
   "outputs": [],
   "source": []
  }
 ],
 "metadata": {
  "kernelspec": {
   "display_name": "Python 3",
   "language": "python",
   "name": "python3"
  },
  "language_info": {
   "codemirror_mode": {
    "name": "ipython",
    "version": 3
   },
   "file_extension": ".py",
   "mimetype": "text/x-python",
   "name": "python",
   "nbconvert_exporter": "python",
   "pygments_lexer": "ipython3",
   "version": "3.6.4"
  }
 },
 "nbformat": 4,
 "nbformat_minor": 2
}
